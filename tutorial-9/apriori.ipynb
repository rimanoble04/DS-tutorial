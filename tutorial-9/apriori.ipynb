{
  "nbformat": 4,
  "nbformat_minor": 0,
  "metadata": {
    "colab": {
      "provenance": [],
      "authorship_tag": "ABX9TyNAsyzX0DdS1RF6wE5/7ZXa",
      "include_colab_link": true
    },
    "kernelspec": {
      "name": "python3",
      "display_name": "Python 3"
    },
    "language_info": {
      "name": "python"
    }
  },
  "cells": [
    {
      "cell_type": "markdown",
      "metadata": {
        "id": "view-in-github",
        "colab_type": "text"
      },
      "source": [
        "<a href=\"https://colab.research.google.com/github/rimanoble04/DS-tutorial/blob/main/tutorial-9/apriori.ipynb\" target=\"_parent\"><img src=\"https://colab.research.google.com/assets/colab-badge.svg\" alt=\"Open In Colab\"/></a>"
      ]
    },
    {
      "cell_type": "code",
      "execution_count": 1,
      "metadata": {
        "id": "QCt2EcC0TUlV"
      },
      "outputs": [],
      "source": [
        "from itertools import combinations\n",
        "\n",
        "def get_frequent_items(dataset, support_threshold):\n",
        "    item_freq = {}\n",
        "    for record in dataset:\n",
        "        for item in record:\n",
        "            itemset = frozenset([item])\n",
        "            item_freq[itemset] = item_freq.get(itemset, 0) + 1\n",
        "    return {item: count for item, count in item_freq.items() if count >= support_threshold}\n",
        "\n",
        "\n",
        "def extend_itemsets(prev_freq_items, level):\n",
        "    candidates = set()\n",
        "    items = list(prev_freq_items)\n",
        "    for i in range(len(items)):\n",
        "        for j in range(i + 1, len(items)):\n",
        "            unioned = items[i].union(items[j])\n",
        "            if len(unioned) == level:\n",
        "                candidates.add(unioned)\n",
        "    return candidates\n",
        "\n",
        "\n",
        "def prune_candidates(data, candidates, support_threshold):\n",
        "    freq = {}\n",
        "    for txn in data:\n",
        "        for cand in candidates:\n",
        "            if cand.issubset(txn):\n",
        "                freq[cand] = freq.get(cand, 0) + 1\n",
        "    return {itemset: count for itemset, count in freq.items() if count >= support_threshold}\n",
        "\n",
        "\n",
        "def apriori_alt(data, min_support):\n",
        "    current_freq = get_frequent_items(data, min_support)\n",
        "    all_freq = dict(current_freq)\n",
        "    level = 2\n",
        "\n",
        "    while current_freq:\n",
        "        candidates = extend_itemsets(current_freq.keys(), level)\n",
        "        current_freq = prune_candidates(data, candidates, min_support)\n",
        "        all_freq.update(current_freq)\n",
        "        level += 1\n",
        "\n",
        "    return all_freq\n",
        "\n",
        "\n",
        "def extract_rules(freq_itemsets, min_conf):\n",
        "    rules = []\n",
        "    for itemset in freq_itemsets:\n",
        "        if len(itemset) >= 2:\n",
        "            subsets = [frozenset(x) for i in range(1, len(itemset)) for x in combinations(itemset, i)]\n",
        "            for antecedent in subsets:\n",
        "                consequent = itemset - antecedent\n",
        "                if consequent:\n",
        "                    conf = freq_itemsets[itemset] / freq_itemsets.get(antecedent, 1)\n",
        "                    if conf >= min_conf:\n",
        "                        rules.append((antecedent, consequent, conf))\n",
        "    return rules\n",
        "\n"
      ]
    },
    {
      "cell_type": "code",
      "source": [
        "\n",
        "# Sample Dataset\n",
        "dataset = [\n",
        "    {'milk', 'bread', 'butter'},\n",
        "    {'bread', 'beer'},\n",
        "    {'milk', 'bread', 'beer', 'butter'},\n",
        "    {'beer', 'butter'},\n",
        "    {'bread', 'butter'}\n",
        "]\n",
        "\n",
        "#  Parameters\n",
        "support_threshold = 2\n",
        "confidence_threshold = 0.6\n",
        "\n",
        "#  Run Apriori\n",
        "frequent_sets = apriori_alt(dataset, support_threshold)\n",
        "rules = extract_rules(frequent_sets, confidence_threshold)\n",
        "\n",
        "#  Output\n",
        "print(\" Frequent Itemsets:\")\n",
        "for itemset, count in frequent_sets.items():\n",
        "    print(f\"{set(itemset)}: {count}\")\n",
        "\n",
        "print(\"\\n Association Rules:\")\n",
        "for ant, cons, conf in rules:\n",
        "    print(f\"{set(ant)} => {set(cons)} (confidence: {conf:.2f})\")\n"
      ],
      "metadata": {
        "colab": {
          "base_uri": "https://localhost:8080/"
        },
        "id": "PbJmHmH7TggQ",
        "outputId": "e5cfb275-633c-4630-de62-68997a71dedd"
      },
      "execution_count": 2,
      "outputs": [
        {
          "output_type": "stream",
          "name": "stdout",
          "text": [
            " Frequent Itemsets:\n",
            "{'bread'}: 4\n",
            "{'milk'}: 2\n",
            "{'butter'}: 4\n",
            "{'beer'}: 3\n",
            "{'bread', 'milk'}: 2\n",
            "{'butter', 'milk'}: 2\n",
            "{'bread', 'butter'}: 3\n",
            "{'bread', 'beer'}: 2\n",
            "{'butter', 'beer'}: 2\n",
            "{'bread', 'milk', 'butter'}: 2\n",
            "\n",
            " Association Rules:\n",
            "{'milk'} => {'bread'} (confidence: 1.00)\n",
            "{'milk'} => {'butter'} (confidence: 1.00)\n",
            "{'bread'} => {'butter'} (confidence: 0.75)\n",
            "{'butter'} => {'bread'} (confidence: 0.75)\n",
            "{'beer'} => {'bread'} (confidence: 0.67)\n",
            "{'beer'} => {'butter'} (confidence: 0.67)\n",
            "{'milk'} => {'bread', 'butter'} (confidence: 1.00)\n",
            "{'bread', 'milk'} => {'butter'} (confidence: 1.00)\n",
            "{'bread', 'butter'} => {'milk'} (confidence: 0.67)\n",
            "{'butter', 'milk'} => {'bread'} (confidence: 1.00)\n"
          ]
        }
      ]
    }
  ]
}